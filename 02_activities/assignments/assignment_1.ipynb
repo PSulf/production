{
 "cells": [
  {
   "cell_type": "markdown",
   "metadata": {},
   "source": [
    "# Working with parquet files\n",
    "\n",
    "## Objective\n",
    "\n",
    "+ In this assignment, we will use the data downloaded with the module `data_manager` to create features.\n",
    "\n",
    "(11 pts total)\n",
    "\n",
    "## Prerequisites\n",
    "\n",
    "+ This notebook assumes that price data is available to you in the environment variable `PRICE_DATA`. If you have not done so, then execute the notebook `01_materials/labs/2_data_engineering.ipynb` to create this data set.\n"
   ]
  },
  {
   "cell_type": "markdown",
   "metadata": {},
   "source": [
    "+ Load the environment variables using dotenv. (1 pt)"
   ]
  },
  {
   "cell_type": "code",
   "execution_count": 70,
   "metadata": {},
   "outputs": [
    {
     "name": "stdout",
     "output_type": "stream",
     "text": [
      "The dotenv extension is already loaded. To reload it, use:\n",
      "  %reload_ext dotenv\n"
     ]
    }
   ],
   "source": [
    "# Loading the environment\n",
    "%load_ext dotenv\n",
    "%dotenv \n"
   ]
  },
  {
   "cell_type": "code",
   "execution_count": 71,
   "metadata": {},
   "outputs": [],
   "source": [
    "import dask.dataframe as dd\n"
   ]
  },
  {
   "cell_type": "markdown",
   "metadata": {},
   "source": [
    "+ Load the environment variable `PRICE_DATA`.\n",
    "+ Use [glob](https://docs.python.org/3/library/glob.html) to find the path of all parquet files in the directory `PRICE_DATA`.\n",
    "\n",
    "(1pt)"
   ]
  },
  {
   "cell_type": "code",
   "execution_count": 72,
   "metadata": {},
   "outputs": [
    {
     "name": "stdout",
     "output_type": "stream",
     "text": [
      "Looking in: ../../05_src/data/prices/**\\*.parquet\n",
      "Found 2943 parquet files\n"
     ]
    },
    {
     "data": {
      "text/plain": [
       "['../../05_src/data/prices\\\\ACN\\\\ACN_2001\\\\part.0.parquet',\n",
       " '../../05_src/data/prices\\\\ACN\\\\ACN_2001\\\\part.1.parquet',\n",
       " '../../05_src/data/prices\\\\ACN\\\\ACN_2002\\\\part.0.parquet',\n",
       " '../../05_src/data/prices\\\\ACN\\\\ACN_2002\\\\part.1.parquet',\n",
       " '../../05_src/data/prices\\\\ACN\\\\ACN_2003\\\\part.0.parquet']"
      ]
     },
     "execution_count": 72,
     "metadata": {},
     "output_type": "execute_result"
    }
   ],
   "source": [
    "import os\n",
    "from glob import glob\n",
    "\n",
    "# 1. Load the price data path from environment variables\n",
    "price_data = os.getenv(\"PRICE_DATA\")\n",
    "assert price_data, \"PRICE_DATA not set — check your .env file\"\n",
    "\n",
    "# 2. Build the recursive glob pattern\n",
    "pattern = os.path.join(price_data, \"**\", \"*.parquet\")\n",
    "\n",
    "# 3. Get all matching parquet file paths\n",
    "parquet_files = glob(pattern, recursive=True)\n",
    "\n",
    "# 4. Inspect (optional)\n",
    "print(f\"Looking in: {pattern}\")\n",
    "print(f\"Found {len(parquet_files)} parquet files\")\n",
    "parquet_files[:5]\n"
   ]
  },
  {
   "cell_type": "markdown",
   "metadata": {},
   "source": [
    "For each ticker and using Dask, do the following:\n",
    "\n",
    "+ Add lags for variables Close and Adj_Close.\n",
    "+ Add returns based on Close:\n",
    "    \n",
    "    - `returns`: (Close / Close_lag_1) - 1\n",
    "\n",
    "+ Add the following range: \n",
    "\n",
    "    - `hi_lo_range`: this is the day's High minus Low.\n",
    "\n",
    "+ Assign the result to `dd_feat`.\n",
    "\n",
    "(4 pt)"
   ]
  },
  {
   "cell_type": "code",
   "execution_count": 77,
   "metadata": {},
   "outputs": [],
   "source": [
    "\n",
    "\n",
    "# 1. Read parquet data\n",
    "dd_px = dd.read_parquet(parquet_files).set_index(\"ticker\")\n",
    "\n",
    "# 2. Create lagged columns and features\n",
    "dd_shift = dd_px.groupby(\"ticker\", group_keys=False).apply(\n",
    "    lambda df: df.assign(\n",
    "        Close_lag_1=df[\"Close\"].shift(1),\n",
    "        Adj_Close_lag_1=df[\"Adj Close\"].shift(1)\n",
    "    ),\n",
    "    meta={\n",
    "        \"Date\": \"datetime64[ns]\",\n",
    "        \"Open\": \"float64\",\n",
    "        \"High\": \"float64\",\n",
    "        \"Low\": \"float64\",\n",
    "        \"Close\": \"float64\",\n",
    "        \"Adj Close\": \"float64\",\n",
    "        \"Volume\": \"float64\",\n",
    "        \"source\": \"object\",\n",
    "        \"Year\": \"int64\",\n",
    "        \"Close_lag_1\": \"float64\",\n",
    "        \"Adj_Close_lag_1\": \"float64\"\n",
    "    }\n",
    ")\n",
    "\n",
    "# 3. Add returns and high-low range\n",
    "dd_feat = dd_shift.assign(\n",
    "    Returns=lambda x: x[\"Close\"] / x[\"Close_lag_1\"] - 1,\n",
    "    hi_lo_range=lambda x: x[\"High\"] - x[\"Low\"]\n",
    ")\n",
    "\n",
    "dd_feat.to_parquet(output_path, write_index=False)\n",
    "\n"
   ]
  },
  {
   "cell_type": "markdown",
   "metadata": {},
   "source": [
    "+ Convert the Dask data frame to a pandas data frame. \n",
    "+ Add a new feature containing the moving average of `returns` using a window of 10 days. There are several ways to solve this task, a simple one uses `.rolling(10).mean()`.\n",
    "\n",
    "(3 pt)"
   ]
  },
  {
   "cell_type": "code",
   "execution_count": 78,
   "metadata": {},
   "outputs": [],
   "source": [
    "# Convert Dask to Pandas\n",
    "pd_feat = dd_feat.compute()\n",
    "\n",
    "# Add 10-day rolling average of Returns for each ticker\n",
    "pd_feat[\"rolling_returns_10\"] = pd_feat.groupby(\"ticker\")[\"Returns\"].transform(lambda x: x.rolling(10).mean())\n",
    "\n"
   ]
  },
  {
   "cell_type": "markdown",
   "metadata": {},
   "source": [
    "Please comment:\n",
    "\n",
    "+ Was it necessary to convert to pandas to calculate the moving average return?\n",
    "+ Would it have been better to do it in Dask? Why?\n",
    "\n",
    "(1 pt)"
   ]
  },
  {
   "cell_type": "code",
   "execution_count": null,
   "metadata": {},
   "outputs": [],
   "source": [
    "# No, it was not strictly necessary. Dask supports rolling window operations using map_partitions or rolling, but it requires careful partitioning and index alignment.\n",
    "\n",
    "# If the dataset is large and doesn't fit in memory, it's better to use Dask to avoid memory overflow. "
   ]
  },
  {
   "cell_type": "markdown",
   "metadata": {},
   "source": [
    "## Criteria\n",
    "\n",
    "The [rubric](./assignment_1_rubric_clean.xlsx) contains the criteria for grading."
   ]
  },
  {
   "cell_type": "markdown",
   "metadata": {},
   "source": [
    "## Submission Information\n",
    "\n",
    "🚨 **Please review our [Assignment Submission Guide](https://github.com/UofT-DSI/onboarding/blob/main/onboarding_documents/submissions.md)** 🚨 for detailed instructions on how to format, branch, and submit your work. Following these guidelines is crucial for your submissions to be evaluated correctly.\n",
    "\n",
    "### Submission Parameters:\n",
    "* Submission Due Date: `HH:MM AM/PM - DD/MM/YYYY`\n",
    "* The branch name for your repo should be: `assignment-1`\n",
    "* What to submit for this assignment:\n",
    "    * This Jupyter Notebook (assignment_1.ipynb) should be populated and should be the only change in your pull request.\n",
    "* What the pull request link should look like for this assignment: `https://github.com/<your_github_username>/production/pull/<pr_id>`\n",
    "    * Open a private window in your browser. Copy and paste the link to your pull request into the address bar. Make sure you can see your pull request properly. This helps the technical facilitator and learning support staff review your submission easily.\n",
    "\n",
    "Checklist:\n",
    "- [ ] Created a branch with the correct naming convention.\n",
    "- [ ] Ensured that the repository is public.\n",
    "- [ ] Reviewed the PR description guidelines and adhered to them.\n",
    "- [ ] Verify that the link is accessible in a private browser window.\n",
    "\n",
    "If you encounter any difficulties or have questions, please don't hesitate to reach out to our team via our Slack at `#cohort-3-help`. Our Technical Facilitators and Learning Support staff are here to help you navigate any challenges."
   ]
  }
 ],
 "metadata": {
  "kernelspec": {
   "display_name": "dsi_participant",
   "language": "python",
   "name": "python3"
  },
  "language_info": {
   "codemirror_mode": {
    "name": "ipython",
    "version": 3
   },
   "file_extension": ".py",
   "mimetype": "text/x-python",
   "name": "python",
   "nbconvert_exporter": "python",
   "pygments_lexer": "ipython3",
   "version": "3.9.15"
  }
 },
 "nbformat": 4,
 "nbformat_minor": 2
}
